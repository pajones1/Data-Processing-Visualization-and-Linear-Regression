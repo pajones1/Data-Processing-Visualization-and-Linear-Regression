{
 "cells": [
  {
   "cell_type": "markdown",
   "id": "4ea159c8",
   "metadata": {},
   "source": [
    "# # Data Processing and Visualization Tutorial 📊 Linear Regression"
   ]
  },
  {
   "cell_type": "markdown",
   "id": "0ce54563",
   "metadata": {},
   "source": [
    "## Prediction of House Price Using Linear Regression"
   ]
  },
  {
   "cell_type": "markdown",
   "id": "eb10821c",
   "metadata": {},
   "source": [
    "### Data\n",
    "\n",
    "The Sacramento real estate transactions file is a list of 985 real estate transactions in the Sacramento area reported over a five-day period, as reported by the Sacramento Bee."
   ]
  },
  {
   "cell_type": "code",
   "execution_count": null,
   "id": "b5cf374b",
   "metadata": {},
   "outputs": [],
   "source": [
    "import pandas as pd\n",
    "import numpy as np\n",
    "import pandas as pd\n",
    "\n",
    "%matplotlib inline"
   ]
  },
  {
   "cell_type": "markdown",
   "id": "90dace8e",
   "metadata": {},
   "source": [
    "### 1. Explore Data"
   ]
  },
  {
   "cell_type": "markdown",
   "id": "40125aa3",
   "metadata": {},
   "source": [
    "Perform EDA on this dataset. Find Dependent and Independent Variables to predict house price."
   ]
  },
  {
   "cell_type": "code",
   "execution_count": null,
   "id": "d8699f21",
   "metadata": {},
   "outputs": [],
   "source": [
    "# Read CSV\n",
    "house_csv = \"/Sacramento_transactions.csv\"\n",
    "house = pd.read_csv(house_csv)\n",
    "house.head()"
   ]
  },
  {
   "cell_type": "code",
   "execution_count": null,
   "id": "9c0d01ab",
   "metadata": {},
   "outputs": [],
   "source": [
    "house.dtypes # Check data types"
   ]
  },
  {
   "cell_type": "code",
   "execution_count": null,
   "id": "d2168cf5",
   "metadata": {},
   "outputs": [],
   "source": [
    "house.describe() # summary statistics"
   ]
  },
  {
   "cell_type": "code",
   "execution_count": null,
   "id": "6e326440",
   "metadata": {},
   "outputs": [],
   "source": [
    "import folium\n",
    "\n",
    "# Create a map object\n",
    "m = folium.Map(location=[985.000000, -121.355982], zoom_start=12)\n",
    "\n",
    "# Add markers for each location\n",
    "for index, row in house.iterrows():\n",
    "    folium.Marker([row['latitude'], row['longitude']], popup=row['street']).add_to(m)\n",
    "\n",
    "# Display the map\n",
    "m"
   ]
  },
  {
   "cell_type": "code",
   "execution_count": null,
   "id": "7e85636b",
   "metadata": {},
   "outputs": [],
   "source": [
    "house['city'].value_counts() # Count of unique values"
   ]
  },
  {
   "cell_type": "code",
   "execution_count": null,
   "id": "e682957e",
   "metadata": {},
   "outputs": [],
   "source": [
    "# check for missing values\n",
    "house.isnull().sum()"
   ]
  },
  {
   "cell_type": "code",
   "execution_count": null,
   "id": "14ebcd86",
   "metadata": {},
   "outputs": [],
   "source": [
    "def draw_scatter_plot(x, y):\n",
    "    plt.scatter(x, y)\n",
    "    plt.xlabel('Square Feet')\n",
    "    plt.ylabel('Price')\n",
    "    plt.title('Scatter Plot of Square Feet vs Price')\n",
    "    plt.show()\n",
    "\n",
    "draw_scatter_plot(house['sq__ft'], house['price'])"
   ]
  },
  {
   "cell_type": "markdown",
   "id": "82da226f",
   "metadata": {},
   "source": [
    "### 2. Predict Price"
   ]
  },
  {
   "cell_type": "markdown",
   "id": "8baebf5b",
   "metadata": {},
   "source": [
    "We are going to predict `price` from available information."
   ]
  },
  {
   "cell_type": "markdown",
   "id": "7bac2a94",
   "metadata": {},
   "source": [
    "#### 2.1 What is the Target Variable? Why?"
   ]
  },
  {
   "cell_type": "code",
   "execution_count": null,
   "id": "af56ec1f",
   "metadata": {},
   "outputs": [],
   "source": [
    "# \n",
    "# The Target Variable is 'prices'"
   ]
  },
  {
   "cell_type": "markdown",
   "id": "8af1170d",
   "metadata": {},
   "source": [
    "#### 2.2 List all possible variables which might be Independent/Predictor variable."
   ]
  },
  {
   "cell_type": "code",
   "execution_count": null,
   "id": "e0b81136",
   "metadata": {},
   "outputs": [],
   "source": [
    "# \n",
    "#  The variables which might be independents/predicot variables are 'beds', 'baths', 'sq__ft', 'type', 'city', 'state', 'zip', 'sale_date', 'latitude', 'longitude'"
   ]
  },
  {
   "cell_type": "markdown",
   "id": "46a2028e",
   "metadata": {},
   "source": [
    "#### 2.3 Find correlation between variables\n",
    "\n",
    "Find correlation between variables. Which is the best predictor? Why? State your reason."
   ]
  },
  {
   "cell_type": "code",
   "execution_count": null,
   "id": "6e4b09cc",
   "metadata": {},
   "outputs": [],
   "source": [
    "numeric_columns = house.select_dtypes(include=[np.number]).columns # Select only numeric columns\n",
    "corr = house[numeric_columns].corr() # Calculate correlation matrix\n",
    "corr"
   ]
  },
  {
   "cell_type": "markdown",
   "id": "07bf481e",
   "metadata": {},
   "source": [
    "#### 2.4 Find Coefficient and Intercept using Linear Regression\n",
    "\n",
    "Using LinearRegression of sklearn.linear_model package find Coefficient and Intercept.\n",
    "\n",
    "Create an instance of LinearRegression.\n",
    "\n",
    "Explore following methods:\n",
    "\n",
    "- fit\n",
    "- predict\n",
    "- score"
   ]
  },
  {
   "cell_type": "code",
   "execution_count": null,
   "id": "e59a72bc",
   "metadata": {},
   "outputs": [],
   "source": [
    "from sklearn.linear_model import LinearRegression"
   ]
  },
  {
   "cell_type": "markdown",
   "id": "60973701",
   "metadata": {},
   "source": [
    "##### 2.4.1 Fit predictor and target variables using linear regression"
   ]
  },
  {
   "cell_type": "code",
   "execution_count": null,
   "id": "559dfbab",
   "metadata": {},
   "outputs": [],
   "source": [
    "# \n",
    "\n",
    "X = house['sq__ft'].values.reshape(-1,1) # values converts it into a numpy array\n",
    "Y = house['price']"
   ]
  },
  {
   "cell_type": "markdown",
   "id": "e3f35a6c",
   "metadata": {},
   "source": [
    "##### 2.4.2 Find R Score"
   ]
  },
  {
   "cell_type": "markdown",
   "id": "be6b4c8b",
   "metadata": {},
   "source": [
    "Find $R^2$ Using ```score``` method of Linear Regression."
   ]
  },
  {
   "cell_type": "markdown",
   "id": "0a3a1569",
   "metadata": {},
   "source": [
    "### 3. Splitting Data"
   ]
  },
  {
   "cell_type": "code",
   "execution_count": null,
   "id": "067e2a19",
   "metadata": {},
   "outputs": [],
   "source": [
    "from sklearn.model_selection import train_test_split"
   ]
  },
  {
   "cell_type": "markdown",
   "id": "2dfe21c2",
   "metadata": {},
   "source": [
    "#### 3.1 Create training and testing subsets\n",
    "\n",
    "Hint: Using `train_test_split` Library.\n",
    "\n",
    "```\n",
    "X_train, X_test, y_train, y_test = train_test_split(X, y, test_size=0.33, random_state=42)\n",
    "```"
   ]
  },
  {
   "cell_type": "code",
   "execution_count": null,
   "id": "3123cfef",
   "metadata": {},
   "outputs": [],
   "source": [
    "# \n",
    "## Create training and testing subsets\n",
    "x_train, x_test, y_train, y_test = train_test_split(X, Y, test_size=0.2, random_state=0)"
   ]
  },
  {
   "cell_type": "markdown",
   "id": "dcd84e6b",
   "metadata": {},
   "source": [
    "#### 3.2 Check Shape, Sample of Test Train Data"
   ]
  },
  {
   "cell_type": "code",
   "execution_count": null,
   "id": "4cad9bac",
   "metadata": {},
   "outputs": [],
   "source": [
    "# \n",
    "## Check training/test data\n",
    "print(\"X Training data shape:\", pd.DataFrame(x_train).shape)\n",
    "print(\"X Testing data shape:\", pd.DataFrame(x_test).shape)\n",
    "\n",
    "\n",
    "print(\"Sample of training data:\")\n",
    "print(pd.DataFrame(x_train[:10])) # Display first 10 records\n",
    "\n",
    "print(\"Sample of testing data:\")\n",
    "print(pd.DataFrame(x_test[:10])) # Display first 10 records"
   ]
  },
  {
   "cell_type": "code",
   "execution_count": null,
   "id": "1c5d959a",
   "metadata": {},
   "outputs": [],
   "source": [
    "print(\"Y Training data:\", pd.DataFrame(y_train).shape) # Check Y training data\n",
    "print(\"Y Testing data:\", pd.DataFrame(y_test).shape) # Check Y testing data\n",
    "\n",
    "print(\"Sample of Y training data:\") # Display sample of Y training data\n",
    "print(pd.DataFrame(y_train[:10])) # Display sample of Y training data\n",
    "\n",
    "print(\"Sample of Y testing data:\") # Display sample of Y testing data\n",
    "print(pd.DataFrame(y_test[:10])) # Display sample of Y testing data"
   ]
  },
  {
   "cell_type": "markdown",
   "id": "021367de",
   "metadata": {},
   "source": [
    "#### 3.3 Using Linear Regression Find The Score\n",
    "\n",
    "1. Fit model using X_train, y_train\n",
    "2. Find score using X_test, y_test"
   ]
  },
  {
   "cell_type": "code",
   "execution_count": null,
   "id": "b835e954",
   "metadata": {},
   "outputs": [],
   "source": [
    "model = LinearRegression() # Create a Linear Regression Model object"
   ]
  },
  {
   "cell_type": "code",
   "execution_count": null,
   "id": "411866e3",
   "metadata": {},
   "outputs": [],
   "source": [
    "# \n",
    "model.fit(x_train, y_train) # Fit the model"
   ]
  },
  {
   "cell_type": "code",
   "execution_count": null,
   "id": "ac980e97",
   "metadata": {},
   "outputs": [],
   "source": [
    "model.intercept_, model.coef_ # Display the intercept and coefficient"
   ]
  },
  {
   "cell_type": "code",
   "execution_count": null,
   "id": "dd54391d",
   "metadata": {},
   "outputs": [],
   "source": [
    "a = model.intercept_\n",
    "b = model.coef_\n",
    "x = 1204\n",
    "\n",
    "Ypred = a*x + b\n",
    "Ypred"
   ]
  },
  {
   "cell_type": "code",
   "execution_count": null,
   "id": "e43ef9d0",
   "metadata": {},
   "outputs": [],
   "source": [
    "print('Predicted House Price:', Ypred[0])"
   ]
  },
  {
   "cell_type": "code",
   "execution_count": null,
   "id": "90811bde",
   "metadata": {},
   "outputs": [],
   "source": [
    "mean_squared_error(y_test, model.predict(x_test)) # Calculate Mean Squared Error"
   ]
  },
  {
   "cell_type": "code",
   "execution_count": null,
   "id": "16f77fee",
   "metadata": {},
   "outputs": [],
   "source": [
    "# \n",
    "y_pred = model.predict(x_test) # Predictions\n",
    "y_pred # Predicted values"
   ]
  },
  {
   "cell_type": "markdown",
   "id": "10aecc2a",
   "metadata": {},
   "source": [
    "### 4. Predict House Price\n",
    "\n",
    "Let's assume we have information of following house:\n",
    "\n",
    "- street:\t1140 EDMONTON DR\n",
    "- city:\tSACRAMENTO\n",
    "- zip:\t95833\n",
    "- state:\tCA\n",
    "- beds:\t3\n",
    "- baths:\t2\n",
    "- sq__ft:\t1204\n",
    "- type:\tResidential\n",
    "\n",
    "**Predict the price of this house using linear regression model.**"
   ]
  },
  {
   "cell_type": "code",
   "execution_count": null,
   "id": "5e095ce0",
   "metadata": {},
   "outputs": [],
   "source": [
    "# \n",
    "\n",
    "# Define the features of the house\n",
    "new_house = pd.DataFrame({'sq__ft': [1204],})\n",
    "\n",
    "# Preprocess the features\n",
    "\n",
    "# Predict the price using the linear regression model\n",
    "predicted_price = model.predict(new_house[['sq__ft']])\n",
    "round_price = round(predicted_price[0], 2)\n",
    "print(\"Predicted Price of the House:\", \"$\",round_price) # Predicted price of the house"
   ]
  },
  {
   "cell_type": "markdown",
   "id": "3a72db56",
   "metadata": {},
   "source": [
    "#### Find the error"
   ]
  },
  {
   "cell_type": "code",
   "execution_count": null,
   "id": "ed522180",
   "metadata": {},
   "outputs": [],
   "source": [
    "y_preds = linreg.predict(x_test)\n",
    "\n",
    "y_preds[:10]"
   ]
  },
  {
   "cell_type": "code",
   "execution_count": null,
   "id": "9a2cbea5",
   "metadata": {},
   "outputs": [],
   "source": [
    "linre.score(x_test, y_test) # Calculate the R-squared value"
   ]
  },
  {
   "cell_type": "code",
   "execution_count": null,
   "id": "e507cc6b",
   "metadata": {},
   "outputs": [],
   "source": [
    "from sklearn.metrics import mean_squared_error\n",
    "\n",
    "mean_squared_error(y_test, y_preds, squared=True)"
   ]
  }
 ],
 "metadata": {
  "colab": {
   "provenance": []
  },
  "kernelspec": {
   "display_name": "Python 3 (ipykernel)",
   "language": "python",
   "name": "python3"
  },
  "language_info": {
   "codemirror_mode": {
    "name": "ipython",
    "version": 3
   },
   "file_extension": ".py",
   "mimetype": "text/x-python",
   "name": "python",
   "nbconvert_exporter": "python",
   "pygments_lexer": "ipython3",
   "version": "3.11.5"
  }
 },
 "nbformat": 4,
 "nbformat_minor": 5
}
